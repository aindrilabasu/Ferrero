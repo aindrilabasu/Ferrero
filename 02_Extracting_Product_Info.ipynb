{
 "cells": [
  {
   "cell_type": "markdown",
   "id": "f86fb2c7-ebbe-4384-befc-1eabb84a690b",
   "metadata": {},
   "source": [
    "### Importing libraries"
   ]
  },
  {
   "cell_type": "code",
   "execution_count": 1,
   "id": "cb90b366-9b6d-4c83-a938-b74d66b4e7ea",
   "metadata": {},
   "outputs": [],
   "source": [
    "from transformers import BertTokenizer, BertForSequenceClassification, Trainer, TrainingArguments\n",
    "from sklearn.preprocessing import LabelEncoder\n",
    "from sklearn.model_selection import train_test_split\n",
    "from sklearn.feature_extraction.text import TfidfVectorizer\n",
    "from sklearn.linear_model import LogisticRegression\n",
    "from sklearn.metrics import accuracy_score, classification_report\n",
    "from torch.utils.data import Dataset, DataLoader\n",
    "\n",
    "import numpy as np\n",
    "import pandas as pd\n",
    "import torch\n",
    "\n",
    "import warnings\n",
    "warnings.filterwarnings('ignore')"
   ]
  },
  {
   "cell_type": "markdown",
   "id": "927f4dff-ee4e-431a-9f72-93a7fb9c7e75",
   "metadata": {},
   "source": [
    "### Loading data"
   ]
  },
  {
   "cell_type": "code",
   "execution_count": 2,
   "id": "a7a59e21-3728-4982-9c0d-ae827c396d55",
   "metadata": {},
   "outputs": [
    {
     "data": {
      "text/html": [
       "<div>\n",
       "<style scoped>\n",
       "    .dataframe tbody tr th:only-of-type {\n",
       "        vertical-align: middle;\n",
       "    }\n",
       "\n",
       "    .dataframe tbody tr th {\n",
       "        vertical-align: top;\n",
       "    }\n",
       "\n",
       "    .dataframe thead th {\n",
       "        text-align: right;\n",
       "    }\n",
       "</style>\n",
       "<table border=\"1\" class=\"dataframe\">\n",
       "  <thead>\n",
       "    <tr style=\"text-align: right;\">\n",
       "      <th></th>\n",
       "      <th>retailer</th>\n",
       "      <th>store_id</th>\n",
       "      <th>week</th>\n",
       "      <th>product</th>\n",
       "      <th>description</th>\n",
       "      <th>regular_price</th>\n",
       "      <th>competition_1_regular_price</th>\n",
       "      <th>competition_2_regular_price</th>\n",
       "      <th>competition_3_regular_price</th>\n",
       "      <th>competition_4_regular_price</th>\n",
       "      <th>...</th>\n",
       "      <th>competition_4_promo_price</th>\n",
       "      <th>competition_5_promo_price</th>\n",
       "      <th>competition_6_promo_price</th>\n",
       "      <th>competition_7_promo_price</th>\n",
       "      <th>competition_8_promo_price</th>\n",
       "      <th>competition_9_promo_price</th>\n",
       "      <th>competition_10_promo_price</th>\n",
       "      <th>value</th>\n",
       "      <th>volume</th>\n",
       "      <th>quantity</th>\n",
       "    </tr>\n",
       "  </thead>\n",
       "  <tbody>\n",
       "    <tr>\n",
       "      <th>0</th>\n",
       "      <td>retail1</td>\n",
       "      <td>1</td>\n",
       "      <td>1</td>\n",
       "      <td>MintyFresh Mint 18g</td>\n",
       "      <td>MintyFresh refresh mint 18grams</td>\n",
       "      <td>10.308645</td>\n",
       "      <td>10.624815</td>\n",
       "      <td>10.013451</td>\n",
       "      <td>10.378847</td>\n",
       "      <td>9.910385</td>\n",
       "      <td>...</td>\n",
       "      <td>8.500521</td>\n",
       "      <td>7.139537</td>\n",
       "      <td>7.606831</td>\n",
       "      <td>8.339536</td>\n",
       "      <td>7.184384</td>\n",
       "      <td>5.759620</td>\n",
       "      <td>7.376553</td>\n",
       "      <td>85.368310</td>\n",
       "      <td>3.953882</td>\n",
       "      <td>9.707949</td>\n",
       "    </tr>\n",
       "    <tr>\n",
       "      <th>1</th>\n",
       "      <td>retail1</td>\n",
       "      <td>1</td>\n",
       "      <td>1</td>\n",
       "      <td>ChocoDelight Dark 200g</td>\n",
       "      <td>200g ChocoDelight smooth</td>\n",
       "      <td>7.947956</td>\n",
       "      <td>7.748726</td>\n",
       "      <td>7.589198</td>\n",
       "      <td>8.085262</td>\n",
       "      <td>7.602363</td>\n",
       "      <td>...</td>\n",
       "      <td>5.766135</td>\n",
       "      <td>4.267236</td>\n",
       "      <td>5.912718</td>\n",
       "      <td>5.156558</td>\n",
       "      <td>6.976287</td>\n",
       "      <td>5.884786</td>\n",
       "      <td>5.335849</td>\n",
       "      <td>82.924731</td>\n",
       "      <td>2.991418</td>\n",
       "      <td>14.922586</td>\n",
       "    </tr>\n",
       "    <tr>\n",
       "      <th>2</th>\n",
       "      <td>retail1</td>\n",
       "      <td>1</td>\n",
       "      <td>1</td>\n",
       "      <td>ChocoDelight White 350g</td>\n",
       "      <td>350g ChocoDelight delicious</td>\n",
       "      <td>13.439368</td>\n",
       "      <td>13.751508</td>\n",
       "      <td>13.183621</td>\n",
       "      <td>13.875440</td>\n",
       "      <td>12.982707</td>\n",
       "      <td>...</td>\n",
       "      <td>8.195118</td>\n",
       "      <td>8.214548</td>\n",
       "      <td>8.995387</td>\n",
       "      <td>10.266603</td>\n",
       "      <td>10.940801</td>\n",
       "      <td>8.727031</td>\n",
       "      <td>7.915147</td>\n",
       "      <td>52.527762</td>\n",
       "      <td>6.513600</td>\n",
       "      <td>12.889607</td>\n",
       "    </tr>\n",
       "    <tr>\n",
       "      <th>3</th>\n",
       "      <td>retail1</td>\n",
       "      <td>1</td>\n",
       "      <td>1</td>\n",
       "      <td>NuttyCream Hazelnuts 80g</td>\n",
       "      <td>delightful Hazelnuts 80g NuttyCream</td>\n",
       "      <td>5.112777</td>\n",
       "      <td>5.279713</td>\n",
       "      <td>5.222118</td>\n",
       "      <td>5.117789</td>\n",
       "      <td>4.877549</td>\n",
       "      <td>...</td>\n",
       "      <td>NaN</td>\n",
       "      <td>NaN</td>\n",
       "      <td>NaN</td>\n",
       "      <td>NaN</td>\n",
       "      <td>NaN</td>\n",
       "      <td>NaN</td>\n",
       "      <td>NaN</td>\n",
       "      <td>48.373782</td>\n",
       "      <td>5.489587</td>\n",
       "      <td>14.374834</td>\n",
       "    </tr>\n",
       "    <tr>\n",
       "      <th>4</th>\n",
       "      <td>retail1</td>\n",
       "      <td>1</td>\n",
       "      <td>1</td>\n",
       "      <td>DarkDream Dark 60g</td>\n",
       "      <td>A decadent DarkDream dark chocolate ice cream ...</td>\n",
       "      <td>14.085425</td>\n",
       "      <td>14.153721</td>\n",
       "      <td>13.860002</td>\n",
       "      <td>14.339698</td>\n",
       "      <td>14.365517</td>\n",
       "      <td>...</td>\n",
       "      <td>NaN</td>\n",
       "      <td>NaN</td>\n",
       "      <td>NaN</td>\n",
       "      <td>NaN</td>\n",
       "      <td>NaN</td>\n",
       "      <td>NaN</td>\n",
       "      <td>NaN</td>\n",
       "      <td>47.718252</td>\n",
       "      <td>9.152050</td>\n",
       "      <td>9.193818</td>\n",
       "    </tr>\n",
       "  </tbody>\n",
       "</table>\n",
       "<p>5 rows × 30 columns</p>\n",
       "</div>"
      ],
      "text/plain": [
       "  retailer  store_id  week                   product  \\\n",
       "0  retail1         1     1       MintyFresh Mint 18g   \n",
       "1  retail1         1     1    ChocoDelight Dark 200g   \n",
       "2  retail1         1     1   ChocoDelight White 350g   \n",
       "3  retail1         1     1  NuttyCream Hazelnuts 80g   \n",
       "4  retail1         1     1        DarkDream Dark 60g   \n",
       "\n",
       "                                         description  regular_price  \\\n",
       "0                    MintyFresh refresh mint 18grams      10.308645   \n",
       "1                           200g ChocoDelight smooth       7.947956   \n",
       "2                        350g ChocoDelight delicious      13.439368   \n",
       "3                delightful Hazelnuts 80g NuttyCream       5.112777   \n",
       "4  A decadent DarkDream dark chocolate ice cream ...      14.085425   \n",
       "\n",
       "   competition_1_regular_price  competition_2_regular_price  \\\n",
       "0                    10.624815                    10.013451   \n",
       "1                     7.748726                     7.589198   \n",
       "2                    13.751508                    13.183621   \n",
       "3                     5.279713                     5.222118   \n",
       "4                    14.153721                    13.860002   \n",
       "\n",
       "   competition_3_regular_price  competition_4_regular_price  ...  \\\n",
       "0                    10.378847                     9.910385  ...   \n",
       "1                     8.085262                     7.602363  ...   \n",
       "2                    13.875440                    12.982707  ...   \n",
       "3                     5.117789                     4.877549  ...   \n",
       "4                    14.339698                    14.365517  ...   \n",
       "\n",
       "   competition_4_promo_price  competition_5_promo_price  \\\n",
       "0                   8.500521                   7.139537   \n",
       "1                   5.766135                   4.267236   \n",
       "2                   8.195118                   8.214548   \n",
       "3                        NaN                        NaN   \n",
       "4                        NaN                        NaN   \n",
       "\n",
       "   competition_6_promo_price  competition_7_promo_price  \\\n",
       "0                   7.606831                   8.339536   \n",
       "1                   5.912718                   5.156558   \n",
       "2                   8.995387                  10.266603   \n",
       "3                        NaN                        NaN   \n",
       "4                        NaN                        NaN   \n",
       "\n",
       "   competition_8_promo_price  competition_9_promo_price  \\\n",
       "0                   7.184384                   5.759620   \n",
       "1                   6.976287                   5.884786   \n",
       "2                  10.940801                   8.727031   \n",
       "3                        NaN                        NaN   \n",
       "4                        NaN                        NaN   \n",
       "\n",
       "   competition_10_promo_price      value    volume   quantity  \n",
       "0                    7.376553  85.368310  3.953882   9.707949  \n",
       "1                    5.335849  82.924731  2.991418  14.922586  \n",
       "2                    7.915147  52.527762  6.513600  12.889607  \n",
       "3                         NaN  48.373782  5.489587  14.374834  \n",
       "4                         NaN  47.718252  9.152050   9.193818  \n",
       "\n",
       "[5 rows x 30 columns]"
      ]
     },
     "execution_count": 2,
     "metadata": {},
     "output_type": "execute_result"
    }
   ],
   "source": [
    "data_path = 'data/Retail_Sales_Data.csv'\n",
    "df = pd.read_csv(data_path)\n",
    "df.head()"
   ]
  },
  {
   "cell_type": "markdown",
   "id": "697df282-4975-483e-b3f2-129008f9fdb6",
   "metadata": {},
   "source": [
    "#### Creating a dataframe with product name and description"
   ]
  },
  {
   "cell_type": "code",
   "execution_count": 3,
   "id": "7a0becea-0ab7-4289-ae2e-d7430cab0aeb",
   "metadata": {},
   "outputs": [
    {
     "data": {
      "text/html": [
       "<div>\n",
       "<style scoped>\n",
       "    .dataframe tbody tr th:only-of-type {\n",
       "        vertical-align: middle;\n",
       "    }\n",
       "\n",
       "    .dataframe tbody tr th {\n",
       "        vertical-align: top;\n",
       "    }\n",
       "\n",
       "    .dataframe thead th {\n",
       "        text-align: right;\n",
       "    }\n",
       "</style>\n",
       "<table border=\"1\" class=\"dataframe\">\n",
       "  <thead>\n",
       "    <tr style=\"text-align: right;\">\n",
       "      <th></th>\n",
       "      <th>product</th>\n",
       "      <th>description</th>\n",
       "    </tr>\n",
       "  </thead>\n",
       "  <tbody>\n",
       "    <tr>\n",
       "      <th>0</th>\n",
       "      <td>MintyFresh Mint 18g</td>\n",
       "      <td>MintyFresh refresh mint 18grams</td>\n",
       "    </tr>\n",
       "    <tr>\n",
       "      <th>1</th>\n",
       "      <td>ChocoDelight Dark 200g</td>\n",
       "      <td>200g ChocoDelight smooth</td>\n",
       "    </tr>\n",
       "    <tr>\n",
       "      <th>2</th>\n",
       "      <td>ChocoDelight White 350g</td>\n",
       "      <td>350g ChocoDelight delicious</td>\n",
       "    </tr>\n",
       "    <tr>\n",
       "      <th>3</th>\n",
       "      <td>NuttyCream Hazelnuts 80g</td>\n",
       "      <td>delightful Hazelnuts 80g NuttyCream</td>\n",
       "    </tr>\n",
       "    <tr>\n",
       "      <th>4</th>\n",
       "      <td>DarkDream Dark 60g</td>\n",
       "      <td>A decadent DarkDream dark chocolate ice cream ...</td>\n",
       "    </tr>\n",
       "    <tr>\n",
       "      <th>6</th>\n",
       "      <td>ChocoDelight Dark 200g</td>\n",
       "      <td>A rich and smooth ChocoDelight dark chocolate ...</td>\n",
       "    </tr>\n",
       "    <tr>\n",
       "      <th>7</th>\n",
       "      <td>ChocoDelight White 350g</td>\n",
       "      <td>ChocoDelight White 350g creamy</td>\n",
       "    </tr>\n",
       "    <tr>\n",
       "      <th>8</th>\n",
       "      <td>NuttyCream Hazelnuts 80g</td>\n",
       "      <td>Hazelnuts NuttyCream 80g  delightful</td>\n",
       "    </tr>\n",
       "    <tr>\n",
       "      <th>10</th>\n",
       "      <td>MintyFresh Mint 18g</td>\n",
       "      <td>18g MintyFresh ref</td>\n",
       "    </tr>\n",
       "    <tr>\n",
       "      <th>12</th>\n",
       "      <td>ChocoDelight White 350g</td>\n",
       "      <td>creamy ChocoDelight 350g</td>\n",
       "    </tr>\n",
       "    <tr>\n",
       "      <th>13</th>\n",
       "      <td>NuttyCream Hazelnuts 80g</td>\n",
       "      <td>80g NuttyCream flavor Hazelnuts</td>\n",
       "    </tr>\n",
       "    <tr>\n",
       "      <th>14</th>\n",
       "      <td>DarkDream Dark 60g</td>\n",
       "      <td>decadent Dark 60g DarkDream</td>\n",
       "    </tr>\n",
       "    <tr>\n",
       "      <th>16</th>\n",
       "      <td>ChocoDelight Dark 200g</td>\n",
       "      <td>rich ChocoDelight 200g</td>\n",
       "    </tr>\n",
       "    <tr>\n",
       "      <th>20</th>\n",
       "      <td>MintyFresh Mint 18g</td>\n",
       "      <td>A refreshing MintyFresh candy with a weight of...</td>\n",
       "    </tr>\n",
       "    <tr>\n",
       "      <th>30</th>\n",
       "      <td>MintyFresh Mint 18g</td>\n",
       "      <td>MintyFresh 18g refresh</td>\n",
       "    </tr>\n",
       "    <tr>\n",
       "      <th>34</th>\n",
       "      <td>DarkDream Dark 60g</td>\n",
       "      <td>60g Dark DarkDream</td>\n",
       "    </tr>\n",
       "    <tr>\n",
       "      <th>47</th>\n",
       "      <td>ChocoDelight White 350g</td>\n",
       "      <td>A creamy and delicious ChocoDelight white choc...</td>\n",
       "    </tr>\n",
       "    <tr>\n",
       "      <th>48</th>\n",
       "      <td>NuttyCream Hazelnuts 80g</td>\n",
       "      <td>A delightful NuttyCream hazelnut flavored ice ...</td>\n",
       "    </tr>\n",
       "    <tr>\n",
       "      <th>81</th>\n",
       "      <td>ChocoDelight Dark 200g</td>\n",
       "      <td>ChocoDelight Dark 200g rich</td>\n",
       "    </tr>\n",
       "    <tr>\n",
       "      <th>129</th>\n",
       "      <td>DarkDream Dark 60g</td>\n",
       "      <td>Dark DarkDream 60g decadent</td>\n",
       "    </tr>\n",
       "  </tbody>\n",
       "</table>\n",
       "</div>"
      ],
      "text/plain": [
       "                      product  \\\n",
       "0         MintyFresh Mint 18g   \n",
       "1      ChocoDelight Dark 200g   \n",
       "2     ChocoDelight White 350g   \n",
       "3    NuttyCream Hazelnuts 80g   \n",
       "4          DarkDream Dark 60g   \n",
       "6      ChocoDelight Dark 200g   \n",
       "7     ChocoDelight White 350g   \n",
       "8    NuttyCream Hazelnuts 80g   \n",
       "10        MintyFresh Mint 18g   \n",
       "12    ChocoDelight White 350g   \n",
       "13   NuttyCream Hazelnuts 80g   \n",
       "14         DarkDream Dark 60g   \n",
       "16     ChocoDelight Dark 200g   \n",
       "20        MintyFresh Mint 18g   \n",
       "30        MintyFresh Mint 18g   \n",
       "34         DarkDream Dark 60g   \n",
       "47    ChocoDelight White 350g   \n",
       "48   NuttyCream Hazelnuts 80g   \n",
       "81     ChocoDelight Dark 200g   \n",
       "129        DarkDream Dark 60g   \n",
       "\n",
       "                                           description  \n",
       "0                      MintyFresh refresh mint 18grams  \n",
       "1                             200g ChocoDelight smooth  \n",
       "2                          350g ChocoDelight delicious  \n",
       "3                  delightful Hazelnuts 80g NuttyCream  \n",
       "4    A decadent DarkDream dark chocolate ice cream ...  \n",
       "6    A rich and smooth ChocoDelight dark chocolate ...  \n",
       "7                       ChocoDelight White 350g creamy  \n",
       "8                 Hazelnuts NuttyCream 80g  delightful  \n",
       "10                                  18g MintyFresh ref  \n",
       "12                            creamy ChocoDelight 350g  \n",
       "13                     80g NuttyCream flavor Hazelnuts  \n",
       "14                         decadent Dark 60g DarkDream  \n",
       "16                              rich ChocoDelight 200g  \n",
       "20   A refreshing MintyFresh candy with a weight of...  \n",
       "30                              MintyFresh 18g refresh  \n",
       "34                                  60g Dark DarkDream  \n",
       "47   A creamy and delicious ChocoDelight white choc...  \n",
       "48   A delightful NuttyCream hazelnut flavored ice ...  \n",
       "81                         ChocoDelight Dark 200g rich  \n",
       "129                        Dark DarkDream 60g decadent  "
      ]
     },
     "execution_count": 3,
     "metadata": {},
     "output_type": "execute_result"
    }
   ],
   "source": [
    "df_product = df[['product', 'description']].drop_duplicates()\n",
    "df_product"
   ]
  },
  {
   "cell_type": "code",
   "execution_count": null,
   "id": "3366e1ab-da3c-4159-ad1a-4f56eeda36da",
   "metadata": {},
   "outputs": [],
   "source": []
  },
  {
   "cell_type": "markdown",
   "id": "b871f1d2-139b-4895-b04f-309192bfb06f",
   "metadata": {},
   "source": [
    "### Using TF-IDF and Logistic Regression"
   ]
  },
  {
   "cell_type": "code",
   "execution_count": 4,
   "id": "955943a2-b214-4ba4-b88a-b58e860ff1ab",
   "metadata": {},
   "outputs": [
    {
     "name": "stdout",
     "output_type": "stream",
     "text": [
      "Accuracy: 1.00\n"
     ]
    }
   ],
   "source": [
    "# Text preprocessing and feature extraction\n",
    "vectorizer = TfidfVectorizer(stop_words='english')\n",
    "X = vectorizer.fit_transform(df_product['description'])\n",
    "\n",
    "# Target variable\n",
    "y = df_product['product']\n",
    "\n",
    "# Train-test split\n",
    "X_train, X_test, y_train, y_test = train_test_split(X, y, test_size=0.2, random_state=42)\n",
    "\n",
    "# Model training\n",
    "model = LogisticRegression()\n",
    "model.fit(X_train, y_train)\n",
    "\n",
    "# Model prediction and evaluation\n",
    "y_pred = model.predict(X_test)\n",
    "accuracy = accuracy_score(y_test, y_pred)\n",
    "print(f'Accuracy: {accuracy:.2f}')"
   ]
  },
  {
   "cell_type": "code",
   "execution_count": 5,
   "id": "b510b32b-5106-425c-b5f1-84e2dc918b8f",
   "metadata": {},
   "outputs": [
    {
     "data": {
      "text/plain": [
       "0          MintyFresh Mint 18g\n",
       "48    NuttyCream Hazelnuts 80g\n",
       "34          DarkDream Dark 60g\n",
       "1       ChocoDelight Dark 200g\n",
       "Name: product, dtype: object"
      ]
     },
     "execution_count": 5,
     "metadata": {},
     "output_type": "execute_result"
    }
   ],
   "source": [
    "# Original values\n",
    "y_test"
   ]
  },
  {
   "cell_type": "code",
   "execution_count": 6,
   "id": "fc37d89f-2a2e-46a6-b57a-73c0c9b4a0c1",
   "metadata": {},
   "outputs": [
    {
     "data": {
      "text/plain": [
       "['MintyFresh Mint 18g',\n",
       " 'NuttyCream Hazelnuts 80g',\n",
       " 'DarkDream Dark 60g',\n",
       " 'ChocoDelight Dark 200g']"
      ]
     },
     "execution_count": 6,
     "metadata": {},
     "output_type": "execute_result"
    }
   ],
   "source": [
    "# Predicted values\n",
    "y_pred.tolist()"
   ]
  },
  {
   "cell_type": "code",
   "execution_count": 7,
   "id": "fba13292-bbeb-49fd-a82f-0de1aea4be0a",
   "metadata": {},
   "outputs": [
    {
     "data": {
      "text/html": [
       "<div>\n",
       "<style scoped>\n",
       "    .dataframe tbody tr th:only-of-type {\n",
       "        vertical-align: middle;\n",
       "    }\n",
       "\n",
       "    .dataframe tbody tr th {\n",
       "        vertical-align: top;\n",
       "    }\n",
       "\n",
       "    .dataframe thead th {\n",
       "        text-align: right;\n",
       "    }\n",
       "</style>\n",
       "<table border=\"1\" class=\"dataframe\">\n",
       "  <thead>\n",
       "    <tr style=\"text-align: right;\">\n",
       "      <th></th>\n",
       "      <th>Actual</th>\n",
       "      <th>Predicted</th>\n",
       "    </tr>\n",
       "  </thead>\n",
       "  <tbody>\n",
       "    <tr>\n",
       "      <th>0</th>\n",
       "      <td>MintyFresh Mint 18g</td>\n",
       "      <td>MintyFresh Mint 18g</td>\n",
       "    </tr>\n",
       "    <tr>\n",
       "      <th>1</th>\n",
       "      <td>NuttyCream Hazelnuts 80g</td>\n",
       "      <td>NuttyCream Hazelnuts 80g</td>\n",
       "    </tr>\n",
       "    <tr>\n",
       "      <th>2</th>\n",
       "      <td>DarkDream Dark 60g</td>\n",
       "      <td>DarkDream Dark 60g</td>\n",
       "    </tr>\n",
       "    <tr>\n",
       "      <th>3</th>\n",
       "      <td>ChocoDelight Dark 200g</td>\n",
       "      <td>ChocoDelight Dark 200g</td>\n",
       "    </tr>\n",
       "  </tbody>\n",
       "</table>\n",
       "</div>"
      ],
      "text/plain": [
       "                     Actual                 Predicted\n",
       "0       MintyFresh Mint 18g       MintyFresh Mint 18g\n",
       "1  NuttyCream Hazelnuts 80g  NuttyCream Hazelnuts 80g\n",
       "2        DarkDream Dark 60g        DarkDream Dark 60g\n",
       "3    ChocoDelight Dark 200g    ChocoDelight Dark 200g"
      ]
     },
     "execution_count": 7,
     "metadata": {},
     "output_type": "execute_result"
    }
   ],
   "source": [
    "pred_df = pd.DataFrame({'Actual': np.array(y_test), 'Predicted': y_pred})\n",
    "pred_df"
   ]
  },
  {
   "cell_type": "code",
   "execution_count": 8,
   "id": "ee455d0d-fadf-43bd-8593-d61feac4e57b",
   "metadata": {},
   "outputs": [
    {
     "name": "stdout",
     "output_type": "stream",
     "text": [
      "                          precision    recall  f1-score   support\n",
      "\n",
      "  ChocoDelight Dark 200g       1.00      1.00      1.00         1\n",
      "      DarkDream Dark 60g       1.00      1.00      1.00         1\n",
      "     MintyFresh Mint 18g       1.00      1.00      1.00         1\n",
      "NuttyCream Hazelnuts 80g       1.00      1.00      1.00         1\n",
      "\n",
      "                accuracy                           1.00         4\n",
      "               macro avg       1.00      1.00      1.00         4\n",
      "            weighted avg       1.00      1.00      1.00         4\n",
      "\n"
     ]
    }
   ],
   "source": [
    "print(classification_report(y_test, y_pred))"
   ]
  },
  {
   "cell_type": "code",
   "execution_count": null,
   "id": "33398486-e925-47f1-b7c7-381429501fc3",
   "metadata": {},
   "outputs": [],
   "source": []
  },
  {
   "cell_type": "code",
   "execution_count": null,
   "id": "0595c13b-b3f4-4175-aff9-11d113900df2",
   "metadata": {},
   "outputs": [],
   "source": []
  },
  {
   "cell_type": "markdown",
   "id": "f0df096f-5865-4953-8415-155f6f597706",
   "metadata": {},
   "source": [
    "### Using BERT"
   ]
  },
  {
   "cell_type": "code",
   "execution_count": 9,
   "id": "f4fa1d3f-3d8d-4a52-a56e-0dd5715a652c",
   "metadata": {},
   "outputs": [],
   "source": [
    "data = df_product.copy()"
   ]
  },
  {
   "cell_type": "code",
   "execution_count": 10,
   "id": "54b7d8e8-baa6-4b8c-a977-5e247bb06f83",
   "metadata": {},
   "outputs": [],
   "source": [
    "label_encoder = LabelEncoder()\n",
    "data['product_encoded'] = label_encoder.fit_transform(data['product'])"
   ]
  },
  {
   "cell_type": "code",
   "execution_count": 11,
   "id": "a294b609-4cff-4c72-803c-fddb308ea1ea",
   "metadata": {},
   "outputs": [],
   "source": [
    "# Split the data into training and testing sets\n",
    "train_data, test_data, train_labels, test_labels = train_test_split(\n",
    "    data['description'], data['product_encoded'], test_size=0.2, random_state=42)"
   ]
  },
  {
   "cell_type": "code",
   "execution_count": 12,
   "id": "a6b1d24e-8098-42eb-8d6c-60ba151adc49",
   "metadata": {},
   "outputs": [],
   "source": [
    "# Dataset class\n",
    "class ProductDataset(Dataset):\n",
    "    def __init__(self, descriptions, labels, tokenizer):\n",
    "        self.descriptions = descriptions\n",
    "        self.labels = labels\n",
    "        self.tokenizer = tokenizer\n",
    "\n",
    "    def __len__(self):\n",
    "        return len(self.descriptions)\n",
    "\n",
    "    def __getitem__(self, idx):\n",
    "        encoding = self.tokenizer(self.descriptions.iloc[idx], truncation=True, padding=\"max_length\", max_length=128)\n",
    "        encoding['labels'] = torch.tensor(self.labels.iloc[idx], dtype=torch.long)\n",
    "        return encoding"
   ]
  },
  {
   "cell_type": "code",
   "execution_count": 13,
   "id": "8ba81050-41ff-426d-bcdc-7769efeef493",
   "metadata": {},
   "outputs": [
    {
     "name": "stderr",
     "output_type": "stream",
     "text": [
      "Some weights of BertForSequenceClassification were not initialized from the model checkpoint at bert-base-uncased and are newly initialized: ['classifier.bias', 'classifier.weight']\n",
      "You should probably TRAIN this model on a down-stream task to be able to use it for predictions and inference.\n"
     ]
    }
   ],
   "source": [
    "tokenizer = BertTokenizer.from_pretrained('bert-base-uncased')\n",
    "model = BertForSequenceClassification.from_pretrained('bert-base-uncased', num_labels=len(label_encoder.classes_))"
   ]
  },
  {
   "cell_type": "code",
   "execution_count": 14,
   "id": "08a16f09-1419-4615-8230-f808b6ec946d",
   "metadata": {},
   "outputs": [],
   "source": [
    "# Training dataset\n",
    "train_dataset = ProductDataset(train_data, train_labels, tokenizer)\n",
    "train_dataloader = DataLoader(train_dataset, batch_size=2, shuffle=True)"
   ]
  },
  {
   "cell_type": "code",
   "execution_count": 15,
   "id": "e17ee09c-4dda-40e2-8477-5e4b4e2016f0",
   "metadata": {},
   "outputs": [],
   "source": [
    "# Testing dataset\n",
    "test_dataset = ProductDataset(test_data, test_labels, tokenizer)\n",
    "test_dataloader = DataLoader(test_dataset, batch_size=2)"
   ]
  },
  {
   "cell_type": "code",
   "execution_count": 16,
   "id": "9b79965f-c0de-42bd-a22d-5d8c31e0f50c",
   "metadata": {},
   "outputs": [],
   "source": [
    "# Training arguments\n",
    "training_args = TrainingArguments(\n",
    "    output_dir='./results',\n",
    "    num_train_epochs=10,\n",
    "    per_device_train_batch_size=2,\n",
    "    save_steps=10_000,\n",
    "    save_total_limit=2,\n",
    ")"
   ]
  },
  {
   "cell_type": "code",
   "execution_count": 17,
   "id": "55c6ca90-5277-43b4-a321-e89662cc0ff5",
   "metadata": {},
   "outputs": [],
   "source": [
    "# Trainer\n",
    "trainer = Trainer(\n",
    "    model=model,\n",
    "    args=training_args,\n",
    "    train_dataset=train_dataset\n",
    ")\n"
   ]
  },
  {
   "cell_type": "code",
   "execution_count": 18,
   "id": "f534fd92-5809-4ab5-8f0a-66f9e97fc21f",
   "metadata": {},
   "outputs": [
    {
     "data": {
      "text/html": [
       "\n",
       "    <div>\n",
       "      \n",
       "      <progress value='80' max='80' style='width:300px; height:20px; vertical-align: middle;'></progress>\n",
       "      [80/80 03:11, Epoch 10/10]\n",
       "    </div>\n",
       "    <table border=\"1\" class=\"dataframe\">\n",
       "  <thead>\n",
       " <tr style=\"text-align: left;\">\n",
       "      <th>Step</th>\n",
       "      <th>Training Loss</th>\n",
       "    </tr>\n",
       "  </thead>\n",
       "  <tbody>\n",
       "  </tbody>\n",
       "</table><p>"
      ],
      "text/plain": [
       "<IPython.core.display.HTML object>"
      ]
     },
     "metadata": {},
     "output_type": "display_data"
    },
    {
     "data": {
      "text/plain": [
       "TrainOutput(global_step=80, training_loss=0.8676412582397461, metrics={'train_runtime': 203.6695, 'train_samples_per_second': 0.786, 'train_steps_per_second': 0.393, 'total_flos': 10524725698560.0, 'train_loss': 0.8676412582397461, 'epoch': 10.0})"
      ]
     },
     "execution_count": 18,
     "metadata": {},
     "output_type": "execute_result"
    }
   ],
   "source": [
    "trainer.train()"
   ]
  },
  {
   "cell_type": "code",
   "execution_count": 19,
   "id": "f17301c5-eb1e-4092-8c6f-15276d9e250a",
   "metadata": {},
   "outputs": [
    {
     "data": {
      "text/html": [],
      "text/plain": [
       "<IPython.core.display.HTML object>"
      ]
     },
     "metadata": {},
     "output_type": "display_data"
    },
    {
     "name": "stdout",
     "output_type": "stream",
     "text": [
      "Evaluation results: {'eval_loss': 0.28931036591529846, 'eval_runtime': 1.0374, 'eval_samples_per_second': 3.856, 'eval_steps_per_second': 0.964, 'epoch': 10.0}\n"
     ]
    }
   ],
   "source": [
    "eval_results = trainer.evaluate(test_dataset)\n",
    "print(f\"Evaluation results: {eval_results}\")"
   ]
  },
  {
   "cell_type": "code",
   "execution_count": 20,
   "id": "ed999ae6-3409-47d4-b2f9-3768785553a9",
   "metadata": {},
   "outputs": [],
   "source": [
    "predictions = trainer.predict(test_dataset)\n",
    "predicted_labels = predictions.predictions.argmax(-1)"
   ]
  },
  {
   "cell_type": "code",
   "execution_count": 21,
   "id": "be8dc7f8-e815-4ba7-9448-874a60e1fd8c",
   "metadata": {},
   "outputs": [
    {
     "name": "stdout",
     "output_type": "stream",
     "text": [
      "Predicted product names: ['MintyFresh Mint 18g' 'NuttyCream Hazelnuts 80g' 'DarkDream Dark 60g'\n",
      " 'ChocoDelight Dark 200g']\n"
     ]
    }
   ],
   "source": [
    "# Mapping predictions back to product names\n",
    "predicted_product_names = label_encoder.inverse_transform(predicted_labels)\n",
    "print(f\"Predicted product names: {predicted_product_names}\")"
   ]
  },
  {
   "cell_type": "code",
   "execution_count": 22,
   "id": "12d1b890-c57d-4c1b-9391-630c1440e028",
   "metadata": {},
   "outputs": [
    {
     "name": "stdout",
     "output_type": "stream",
     "text": [
      "Original product names: ['MintyFresh Mint 18g', 'NuttyCream Hazelnuts 80g', 'DarkDream Dark 60g', 'ChocoDelight Dark 200g']\n"
     ]
    }
   ],
   "source": [
    "y_test = label_encoder.inverse_transform(test_labels).tolist()\n",
    "print(f\"Original product names: {y_test}\")"
   ]
  },
  {
   "cell_type": "code",
   "execution_count": 23,
   "id": "6a317c9d-274f-4c3f-b773-13f298d07a8a",
   "metadata": {},
   "outputs": [
    {
     "name": "stdout",
     "output_type": "stream",
     "text": [
      "Accuracy: 1.00\n"
     ]
    }
   ],
   "source": [
    "accuracy = accuracy_score(test_labels, predicted_labels)\n",
    "print(f'Accuracy: {accuracy:.2f}')"
   ]
  },
  {
   "cell_type": "code",
   "execution_count": 25,
   "id": "e96391fa-6339-4c72-8c22-573af1cc3c7a",
   "metadata": {},
   "outputs": [
    {
     "data": {
      "text/html": [
       "<div>\n",
       "<style scoped>\n",
       "    .dataframe tbody tr th:only-of-type {\n",
       "        vertical-align: middle;\n",
       "    }\n",
       "\n",
       "    .dataframe tbody tr th {\n",
       "        vertical-align: top;\n",
       "    }\n",
       "\n",
       "    .dataframe thead th {\n",
       "        text-align: right;\n",
       "    }\n",
       "</style>\n",
       "<table border=\"1\" class=\"dataframe\">\n",
       "  <thead>\n",
       "    <tr style=\"text-align: right;\">\n",
       "      <th></th>\n",
       "      <th>Actual</th>\n",
       "      <th>Predicted</th>\n",
       "    </tr>\n",
       "  </thead>\n",
       "  <tbody>\n",
       "    <tr>\n",
       "      <th>0</th>\n",
       "      <td>MintyFresh Mint 18g</td>\n",
       "      <td>MintyFresh Mint 18g</td>\n",
       "    </tr>\n",
       "    <tr>\n",
       "      <th>1</th>\n",
       "      <td>NuttyCream Hazelnuts 80g</td>\n",
       "      <td>NuttyCream Hazelnuts 80g</td>\n",
       "    </tr>\n",
       "    <tr>\n",
       "      <th>2</th>\n",
       "      <td>DarkDream Dark 60g</td>\n",
       "      <td>DarkDream Dark 60g</td>\n",
       "    </tr>\n",
       "    <tr>\n",
       "      <th>3</th>\n",
       "      <td>ChocoDelight Dark 200g</td>\n",
       "      <td>ChocoDelight Dark 200g</td>\n",
       "    </tr>\n",
       "  </tbody>\n",
       "</table>\n",
       "</div>"
      ],
      "text/plain": [
       "                     Actual                 Predicted\n",
       "0       MintyFresh Mint 18g       MintyFresh Mint 18g\n",
       "1  NuttyCream Hazelnuts 80g  NuttyCream Hazelnuts 80g\n",
       "2        DarkDream Dark 60g        DarkDream Dark 60g\n",
       "3    ChocoDelight Dark 200g    ChocoDelight Dark 200g"
      ]
     },
     "execution_count": 25,
     "metadata": {},
     "output_type": "execute_result"
    }
   ],
   "source": [
    "pred_df = pd.DataFrame({'Actual': np.array(y_test), 'Predicted': predicted_product_names})\n",
    "pred_df"
   ]
  },
  {
   "cell_type": "code",
   "execution_count": 26,
   "id": "0295d4ea-d08f-4de7-9d11-cd764fc783f3",
   "metadata": {},
   "outputs": [
    {
     "name": "stdout",
     "output_type": "stream",
     "text": [
      "              precision    recall  f1-score   support\n",
      "\n",
      "           0       1.00      1.00      1.00         1\n",
      "           2       1.00      1.00      1.00         1\n",
      "           3       1.00      1.00      1.00         1\n",
      "           4       1.00      1.00      1.00         1\n",
      "\n",
      "    accuracy                           1.00         4\n",
      "   macro avg       1.00      1.00      1.00         4\n",
      "weighted avg       1.00      1.00      1.00         4\n",
      "\n"
     ]
    }
   ],
   "source": [
    "print(classification_report(test_labels, predicted_labels))"
   ]
  },
  {
   "cell_type": "code",
   "execution_count": 27,
   "id": "ac2c7832-3349-441f-b706-a6b034233a91",
   "metadata": {},
   "outputs": [
    {
     "name": "stdout",
     "output_type": "stream",
     "text": [
      "                          precision    recall  f1-score   support\n",
      "\n",
      "  ChocoDelight Dark 200g       1.00      1.00      1.00         1\n",
      "      DarkDream Dark 60g       1.00      1.00      1.00         1\n",
      "     MintyFresh Mint 18g       1.00      1.00      1.00         1\n",
      "NuttyCream Hazelnuts 80g       1.00      1.00      1.00         1\n",
      "\n",
      "                accuracy                           1.00         4\n",
      "               macro avg       1.00      1.00      1.00         4\n",
      "            weighted avg       1.00      1.00      1.00         4\n",
      "\n"
     ]
    }
   ],
   "source": [
    "print(classification_report(y_test, predicted_product_names))"
   ]
  },
  {
   "cell_type": "code",
   "execution_count": null,
   "id": "0a86fa74-6688-43c9-b258-30bc62515cd6",
   "metadata": {},
   "outputs": [],
   "source": []
  },
  {
   "cell_type": "code",
   "execution_count": null,
   "id": "51ec7c9e-921c-4b95-beb5-585bcc04f12a",
   "metadata": {},
   "outputs": [],
   "source": []
  },
  {
   "cell_type": "code",
   "execution_count": null,
   "id": "8c9c3490-1226-4e30-843c-8864ebda9a7f",
   "metadata": {},
   "outputs": [],
   "source": []
  },
  {
   "cell_type": "code",
   "execution_count": null,
   "id": "570477e5-7648-4c40-9f28-bb6e519afa37",
   "metadata": {},
   "outputs": [],
   "source": []
  },
  {
   "cell_type": "code",
   "execution_count": null,
   "id": "773b1ca9-7ae2-4dcc-a684-3990e7e7d15b",
   "metadata": {},
   "outputs": [],
   "source": []
  }
 ],
 "metadata": {
  "kernelspec": {
   "display_name": "Python 3 (ipykernel)",
   "language": "python",
   "name": "python3"
  },
  "language_info": {
   "codemirror_mode": {
    "name": "ipython",
    "version": 3
   },
   "file_extension": ".py",
   "mimetype": "text/x-python",
   "name": "python",
   "nbconvert_exporter": "python",
   "pygments_lexer": "ipython3",
   "version": "3.11.7"
  }
 },
 "nbformat": 4,
 "nbformat_minor": 5
}

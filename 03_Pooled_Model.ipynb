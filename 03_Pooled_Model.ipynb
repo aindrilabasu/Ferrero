{
 "cells": [
  {
   "cell_type": "markdown",
   "id": "e07afaf4-0681-4f93-9b04-570c175f40c3",
   "metadata": {},
   "source": [
    "### Importing libraries"
   ]
  },
  {
   "cell_type": "code",
   "execution_count": 1,
   "id": "f22c2dd2-a6b2-4507-828b-c9316c1e1552",
   "metadata": {},
   "outputs": [],
   "source": [
    "import numpy as np\n",
    "import pandas as pd\n",
    "from linearmodels import PooledOLS\n",
    "import statsmodels.api as sm\n",
    "from sklearn.model_selection import train_test_split\n",
    "from sklearn.metrics import mean_squared_error, mean_absolute_error, r2_score\n",
    "from sklearn.decomposition import PCA\n",
    "from sklearn.preprocessing import StandardScaler\n",
    "from statsmodels.stats.outliers_influence import variance_inflation_factor\n",
    "import matplotlib.pyplot as plt\n",
    "\n",
    "import warnings\n",
    "warnings.filterwarnings('ignore')"
   ]
  },
  {
   "cell_type": "markdown",
   "id": "1ca86f1d-9c4a-42cd-aa53-3d9f8e994c4e",
   "metadata": {},
   "source": [
    "### Loading the data"
   ]
  },
  {
   "cell_type": "code",
   "execution_count": 2,
   "id": "cee3f210-d7e9-4550-8aae-0222830f1b69",
   "metadata": {},
   "outputs": [
    {
     "data": {
      "text/html": [
       "<div>\n",
       "<style scoped>\n",
       "    .dataframe tbody tr th:only-of-type {\n",
       "        vertical-align: middle;\n",
       "    }\n",
       "\n",
       "    .dataframe tbody tr th {\n",
       "        vertical-align: top;\n",
       "    }\n",
       "\n",
       "    .dataframe thead th {\n",
       "        text-align: right;\n",
       "    }\n",
       "</style>\n",
       "<table border=\"1\" class=\"dataframe\">\n",
       "  <thead>\n",
       "    <tr style=\"text-align: right;\">\n",
       "      <th></th>\n",
       "      <th>retailer</th>\n",
       "      <th>store_id</th>\n",
       "      <th>week</th>\n",
       "      <th>product</th>\n",
       "      <th>description</th>\n",
       "      <th>regular_price</th>\n",
       "      <th>competition_1_regular_price</th>\n",
       "      <th>competition_2_regular_price</th>\n",
       "      <th>competition_3_regular_price</th>\n",
       "      <th>competition_4_regular_price</th>\n",
       "      <th>...</th>\n",
       "      <th>competition_4_promo_price</th>\n",
       "      <th>competition_5_promo_price</th>\n",
       "      <th>competition_6_promo_price</th>\n",
       "      <th>competition_7_promo_price</th>\n",
       "      <th>competition_8_promo_price</th>\n",
       "      <th>competition_9_promo_price</th>\n",
       "      <th>competition_10_promo_price</th>\n",
       "      <th>value</th>\n",
       "      <th>volume</th>\n",
       "      <th>quantity</th>\n",
       "    </tr>\n",
       "  </thead>\n",
       "  <tbody>\n",
       "    <tr>\n",
       "      <th>0</th>\n",
       "      <td>retail1</td>\n",
       "      <td>1</td>\n",
       "      <td>1</td>\n",
       "      <td>MintyFresh Mint 18g</td>\n",
       "      <td>MintyFresh refresh mint 18grams</td>\n",
       "      <td>10.308645</td>\n",
       "      <td>10.624815</td>\n",
       "      <td>10.013451</td>\n",
       "      <td>10.378847</td>\n",
       "      <td>9.910385</td>\n",
       "      <td>...</td>\n",
       "      <td>8.500521</td>\n",
       "      <td>7.139537</td>\n",
       "      <td>7.606831</td>\n",
       "      <td>8.339536</td>\n",
       "      <td>7.184384</td>\n",
       "      <td>5.759620</td>\n",
       "      <td>7.376553</td>\n",
       "      <td>85.368310</td>\n",
       "      <td>3.953882</td>\n",
       "      <td>9.707949</td>\n",
       "    </tr>\n",
       "    <tr>\n",
       "      <th>1</th>\n",
       "      <td>retail1</td>\n",
       "      <td>1</td>\n",
       "      <td>1</td>\n",
       "      <td>ChocoDelight Dark 200g</td>\n",
       "      <td>200g ChocoDelight smooth</td>\n",
       "      <td>7.947956</td>\n",
       "      <td>7.748726</td>\n",
       "      <td>7.589198</td>\n",
       "      <td>8.085262</td>\n",
       "      <td>7.602363</td>\n",
       "      <td>...</td>\n",
       "      <td>5.766135</td>\n",
       "      <td>4.267236</td>\n",
       "      <td>5.912718</td>\n",
       "      <td>5.156558</td>\n",
       "      <td>6.976287</td>\n",
       "      <td>5.884786</td>\n",
       "      <td>5.335849</td>\n",
       "      <td>82.924731</td>\n",
       "      <td>2.991418</td>\n",
       "      <td>14.922586</td>\n",
       "    </tr>\n",
       "    <tr>\n",
       "      <th>2</th>\n",
       "      <td>retail1</td>\n",
       "      <td>1</td>\n",
       "      <td>1</td>\n",
       "      <td>ChocoDelight White 350g</td>\n",
       "      <td>350g ChocoDelight delicious</td>\n",
       "      <td>13.439368</td>\n",
       "      <td>13.751508</td>\n",
       "      <td>13.183621</td>\n",
       "      <td>13.875440</td>\n",
       "      <td>12.982707</td>\n",
       "      <td>...</td>\n",
       "      <td>8.195118</td>\n",
       "      <td>8.214548</td>\n",
       "      <td>8.995387</td>\n",
       "      <td>10.266603</td>\n",
       "      <td>10.940801</td>\n",
       "      <td>8.727031</td>\n",
       "      <td>7.915147</td>\n",
       "      <td>52.527762</td>\n",
       "      <td>6.513600</td>\n",
       "      <td>12.889607</td>\n",
       "    </tr>\n",
       "    <tr>\n",
       "      <th>3</th>\n",
       "      <td>retail1</td>\n",
       "      <td>1</td>\n",
       "      <td>1</td>\n",
       "      <td>NuttyCream Hazelnuts 80g</td>\n",
       "      <td>delightful Hazelnuts 80g NuttyCream</td>\n",
       "      <td>5.112777</td>\n",
       "      <td>5.279713</td>\n",
       "      <td>5.222118</td>\n",
       "      <td>5.117789</td>\n",
       "      <td>4.877549</td>\n",
       "      <td>...</td>\n",
       "      <td>NaN</td>\n",
       "      <td>NaN</td>\n",
       "      <td>NaN</td>\n",
       "      <td>NaN</td>\n",
       "      <td>NaN</td>\n",
       "      <td>NaN</td>\n",
       "      <td>NaN</td>\n",
       "      <td>48.373782</td>\n",
       "      <td>5.489587</td>\n",
       "      <td>14.374834</td>\n",
       "    </tr>\n",
       "    <tr>\n",
       "      <th>4</th>\n",
       "      <td>retail1</td>\n",
       "      <td>1</td>\n",
       "      <td>1</td>\n",
       "      <td>DarkDream Dark 60g</td>\n",
       "      <td>A decadent DarkDream dark chocolate ice cream ...</td>\n",
       "      <td>14.085425</td>\n",
       "      <td>14.153721</td>\n",
       "      <td>13.860002</td>\n",
       "      <td>14.339698</td>\n",
       "      <td>14.365517</td>\n",
       "      <td>...</td>\n",
       "      <td>NaN</td>\n",
       "      <td>NaN</td>\n",
       "      <td>NaN</td>\n",
       "      <td>NaN</td>\n",
       "      <td>NaN</td>\n",
       "      <td>NaN</td>\n",
       "      <td>NaN</td>\n",
       "      <td>47.718252</td>\n",
       "      <td>9.152050</td>\n",
       "      <td>9.193818</td>\n",
       "    </tr>\n",
       "  </tbody>\n",
       "</table>\n",
       "<p>5 rows × 30 columns</p>\n",
       "</div>"
      ],
      "text/plain": [
       "  retailer  store_id  week                   product  \\\n",
       "0  retail1         1     1       MintyFresh Mint 18g   \n",
       "1  retail1         1     1    ChocoDelight Dark 200g   \n",
       "2  retail1         1     1   ChocoDelight White 350g   \n",
       "3  retail1         1     1  NuttyCream Hazelnuts 80g   \n",
       "4  retail1         1     1        DarkDream Dark 60g   \n",
       "\n",
       "                                         description  regular_price  \\\n",
       "0                    MintyFresh refresh mint 18grams      10.308645   \n",
       "1                           200g ChocoDelight smooth       7.947956   \n",
       "2                        350g ChocoDelight delicious      13.439368   \n",
       "3                delightful Hazelnuts 80g NuttyCream       5.112777   \n",
       "4  A decadent DarkDream dark chocolate ice cream ...      14.085425   \n",
       "\n",
       "   competition_1_regular_price  competition_2_regular_price  \\\n",
       "0                    10.624815                    10.013451   \n",
       "1                     7.748726                     7.589198   \n",
       "2                    13.751508                    13.183621   \n",
       "3                     5.279713                     5.222118   \n",
       "4                    14.153721                    13.860002   \n",
       "\n",
       "   competition_3_regular_price  competition_4_regular_price  ...  \\\n",
       "0                    10.378847                     9.910385  ...   \n",
       "1                     8.085262                     7.602363  ...   \n",
       "2                    13.875440                    12.982707  ...   \n",
       "3                     5.117789                     4.877549  ...   \n",
       "4                    14.339698                    14.365517  ...   \n",
       "\n",
       "   competition_4_promo_price  competition_5_promo_price  \\\n",
       "0                   8.500521                   7.139537   \n",
       "1                   5.766135                   4.267236   \n",
       "2                   8.195118                   8.214548   \n",
       "3                        NaN                        NaN   \n",
       "4                        NaN                        NaN   \n",
       "\n",
       "   competition_6_promo_price  competition_7_promo_price  \\\n",
       "0                   7.606831                   8.339536   \n",
       "1                   5.912718                   5.156558   \n",
       "2                   8.995387                  10.266603   \n",
       "3                        NaN                        NaN   \n",
       "4                        NaN                        NaN   \n",
       "\n",
       "   competition_8_promo_price  competition_9_promo_price  \\\n",
       "0                   7.184384                   5.759620   \n",
       "1                   6.976287                   5.884786   \n",
       "2                  10.940801                   8.727031   \n",
       "3                        NaN                        NaN   \n",
       "4                        NaN                        NaN   \n",
       "\n",
       "   competition_10_promo_price      value    volume   quantity  \n",
       "0                    7.376553  85.368310  3.953882   9.707949  \n",
       "1                    5.335849  82.924731  2.991418  14.922586  \n",
       "2                    7.915147  52.527762  6.513600  12.889607  \n",
       "3                         NaN  48.373782  5.489587  14.374834  \n",
       "4                         NaN  47.718252  9.152050   9.193818  \n",
       "\n",
       "[5 rows x 30 columns]"
      ]
     },
     "execution_count": 2,
     "metadata": {},
     "output_type": "execute_result"
    }
   ],
   "source": [
    "data_path = \"data/Retail_Sales_Data.csv\"\n",
    "df = pd.read_csv(data_path)\n",
    "df.head()"
   ]
  },
  {
   "cell_type": "markdown",
   "id": "ec3cb43d-9853-4885-92d1-317c0405e1c4",
   "metadata": {},
   "source": [
    "### Principal Component Analysis"
   ]
  },
  {
   "cell_type": "code",
   "execution_count": 3,
   "id": "a75b43e3-306b-4f53-b520-96c9e68bbe89",
   "metadata": {},
   "outputs": [
    {
     "name": "stdout",
     "output_type": "stream",
     "text": [
      "Explained variance: [8.40679938e-01 7.77983954e-02 7.60459233e-02 6.33187075e-04\n",
      " 6.24865177e-04]\n"
     ]
    }
   ],
   "source": [
    "# Separating the features\n",
    "features = ['regular_price', 'competition_1_regular_price', 'competition_2_regular_price',\n",
    "            'competition_3_regular_price', 'competition_4_regular_price',\n",
    "            'competition_5_regular_price', 'competition_6_regular_price',\n",
    "            'competition_7_regular_price', 'competition_8_regular_price',\n",
    "            'competition_9_regular_price', 'competition_10_regular_price',\n",
    "            'value', 'volume']\n",
    "X = df[features]  # Select the relevant features\n",
    "\n",
    "# Standardising the data for PCA\n",
    "scaler = StandardScaler()\n",
    "X_scaled = scaler.fit_transform(X)\n",
    "\n",
    "# Performing PCA\n",
    "pca = PCA(n_components=5)  # Choose the number of principal components\n",
    "X_pca = pca.fit_transform(X_scaled)\n",
    "\n",
    "# Explained variance\n",
    "explained_variance = pca.explained_variance_ratio_\n",
    "print(f'Explained variance: {explained_variance}')"
   ]
  },
  {
   "cell_type": "markdown",
   "id": "b943b409-414d-4d02-a76d-1f356bd7e685",
   "metadata": {},
   "source": [
    "The first 3 features explain around 99% of the variance. They are the best features to be used for the pooled model."
   ]
  },
  {
   "cell_type": "code",
   "execution_count": 4,
   "id": "d64c55ee-c610-490b-91b0-f62456580eb5",
   "metadata": {},
   "outputs": [
    {
     "name": "stdout",
     "output_type": "stream",
     "text": [
      "           PC1       PC2       PC3       PC4       PC5\n",
      "0    -1.670053 -1.245862 -0.389645 -0.053615 -0.032008\n",
      "1    -3.535361 -1.443016 -0.062472  0.049256  0.014104\n",
      "2     0.784019  0.351601 -0.190630  0.047688  0.022422\n",
      "3    -5.661649  0.184705  0.192050  0.033847 -0.034028\n",
      "4     1.305873  1.205487 -0.781519  0.018982  0.057910\n",
      "...        ...       ...       ...       ...       ...\n",
      "8835 -5.314883  0.408000  0.948659 -0.050536 -0.047901\n",
      "8836  2.965257 -1.097478  0.989325 -0.275277  0.173898\n",
      "8837  1.944548  1.502313 -0.437902  0.050442 -0.096012\n",
      "8838 -5.095377 -1.431782  0.342443  0.050491 -0.070063\n",
      "8839  3.900398 -0.423406  0.003379 -0.115279  0.022554\n",
      "\n",
      "[8840 rows x 5 columns]\n"
     ]
    }
   ],
   "source": [
    "# Transforming data\n",
    "X_transformed = pca.transform(X_scaled)\n",
    "\n",
    "df_pca = pd.DataFrame(X_transformed, columns=['PC1', 'PC2', 'PC3', 'PC4', 'PC5'])\n",
    "print(df_pca)"
   ]
  },
  {
   "cell_type": "markdown",
   "id": "eb588d0d-5582-40bc-8c4f-8433c309af27",
   "metadata": {},
   "source": [
    " "
   ]
  },
  {
   "cell_type": "code",
   "execution_count": 5,
   "id": "82cb82d2-6f33-4a12-8f44-aedd8e83d76a",
   "metadata": {},
   "outputs": [],
   "source": [
    "loadings = pca.components_\n",
    "df_loadings = pd.DataFrame(loadings.T, columns=[f'PC{i+1}' for i in range(loadings.shape[0])], index=features)"
   ]
  },
  {
   "cell_type": "code",
   "execution_count": 6,
   "id": "bda21289-7c1b-4d03-913d-c4755e3a6b02",
   "metadata": {},
   "outputs": [
    {
     "name": "stdout",
     "output_type": "stream",
     "text": [
      "                                  PC1       PC2       PC3       PC4       PC5\n",
      "competition_2_regular_price  0.301436       NaN       NaN  0.370785  0.274171\n",
      "competition_3_regular_price       NaN       NaN       NaN       NaN  0.742740\n",
      "competition_5_regular_price       NaN  0.001024       NaN  0.660941       NaN\n",
      "competition_6_regular_price       NaN       NaN       NaN  0.323932       NaN\n",
      "competition_8_regular_price       NaN       NaN       NaN       NaN  0.528770\n",
      "competition_9_regular_price  0.301440       NaN  0.001210       NaN       NaN\n",
      "regular_price                0.302395       NaN       NaN       NaN       NaN\n",
      "value                             NaN  0.707134  0.707077       NaN       NaN\n",
      "volume                            NaN  0.707077  0.707133       NaN       NaN\n"
     ]
    }
   ],
   "source": [
    "# Getingt the absolute values of the loadings\n",
    "df_loadings_abs = df_loadings.abs()\n",
    "\n",
    "# Sorting each column individually\n",
    "df_sorted_loadings = df_loadings_abs.apply(lambda col: col.sort_values(ascending=False).head(3))\n",
    "\n",
    "# Print the sorted loadings\n",
    "print(df_sorted_loadings)"
   ]
  },
  {
   "cell_type": "markdown",
   "id": "78e8848b-7b5d-4934-a56f-53645b7652e2",
   "metadata": {},
   "source": [
    "From the Principal component analysis, it is clear that regular_price, value and volume are the three features that have the highest impact on each principal component"
   ]
  },
  {
   "cell_type": "markdown",
   "id": "9a077443-7e13-46c1-8f29-700b24c40c17",
   "metadata": {},
   "source": [
    "### Using Feature Engineering"
   ]
  },
  {
   "cell_type": "code",
   "execution_count": 7,
   "id": "5df8a40e-71e3-4715-928c-b97dfb654f42",
   "metadata": {},
   "outputs": [],
   "source": [
    "# Filter data for Retailer1\n",
    "df_retail1 = df[df['retailer'] == 'retail1']\n",
    "\n",
    "week = pd.Categorical(df_retail1.week)\n",
    "df_retail1 = df_retail1.set_index([\"store_id\", \"week\"])\n",
    "df_retail1[\"week\"] = week"
   ]
  },
  {
   "cell_type": "code",
   "execution_count": 8,
   "id": "1d20f535-7721-4547-bf8d-f84bfdf0ee9a",
   "metadata": {},
   "outputs": [],
   "source": [
    "competitor_prices = [f'competition_{i}_regular_price' for i in range(1, 11)]\n",
    "df_retail1['average_competitor_price'] = df_retail1[competitor_prices].mean(axis=1)"
   ]
  },
  {
   "cell_type": "code",
   "execution_count": 9,
   "id": "67cf489a-2205-4f63-b2f3-d7bd5e2f7deb",
   "metadata": {},
   "outputs": [],
   "source": [
    "X = df_retail1[['regular_price', 'average_competitor_price',  'value', 'volume']]\n",
    "y = df_retail1['quantity']"
   ]
  },
  {
   "cell_type": "code",
   "execution_count": 10,
   "id": "d8e5be2a-89cb-4c20-89f7-975be5fc1a35",
   "metadata": {},
   "outputs": [
    {
     "data": {
      "text/html": [
       "<div>\n",
       "<style scoped>\n",
       "    .dataframe tbody tr th:only-of-type {\n",
       "        vertical-align: middle;\n",
       "    }\n",
       "\n",
       "    .dataframe tbody tr th {\n",
       "        vertical-align: top;\n",
       "    }\n",
       "\n",
       "    .dataframe thead th {\n",
       "        text-align: right;\n",
       "    }\n",
       "</style>\n",
       "<table border=\"1\" class=\"dataframe\">\n",
       "  <thead>\n",
       "    <tr style=\"text-align: right;\">\n",
       "      <th></th>\n",
       "      <th>Features</th>\n",
       "      <th>VIF</th>\n",
       "    </tr>\n",
       "  </thead>\n",
       "  <tbody>\n",
       "    <tr>\n",
       "      <th>0</th>\n",
       "      <td>regular_price</td>\n",
       "      <td>12479.941256</td>\n",
       "    </tr>\n",
       "    <tr>\n",
       "      <th>1</th>\n",
       "      <td>average_competitor_price</td>\n",
       "      <td>12482.562367</td>\n",
       "    </tr>\n",
       "    <tr>\n",
       "      <th>2</th>\n",
       "      <td>value</td>\n",
       "      <td>4.177858</td>\n",
       "    </tr>\n",
       "    <tr>\n",
       "      <th>3</th>\n",
       "      <td>volume</td>\n",
       "      <td>4.204079</td>\n",
       "    </tr>\n",
       "  </tbody>\n",
       "</table>\n",
       "</div>"
      ],
      "text/plain": [
       "                   Features           VIF\n",
       "0             regular_price  12479.941256\n",
       "1  average_competitor_price  12482.562367\n",
       "2                     value      4.177858\n",
       "3                    volume      4.204079"
      ]
     },
     "execution_count": 10,
     "metadata": {},
     "output_type": "execute_result"
    }
   ],
   "source": [
    "vif_values = [variance_inflation_factor(X.values, i) for i in range(len(X.columns))]\n",
    "vif = pd.DataFrame({'Features': X.columns, 'VIF': vif_values})\n",
    "vif"
   ]
  },
  {
   "cell_type": "code",
   "execution_count": 11,
   "id": "181890d1-b5b7-4f05-a62b-36f93d86db69",
   "metadata": {},
   "outputs": [],
   "source": [
    "# Add a constant to the features (intercept term)\n",
    "X = sm.add_constant(X)\n",
    "\n",
    "# Split the data into training and testing sets (80% training, 20% testing)\n",
    "X_train, X_test, y_train, y_test = train_test_split(X, y, test_size=0.2, random_state=42)"
   ]
  },
  {
   "cell_type": "code",
   "execution_count": 12,
   "id": "7be25eb8-de82-4084-8101-7cdba8a2dcd7",
   "metadata": {},
   "outputs": [
    {
     "name": "stdout",
     "output_type": "stream",
     "text": [
      "                          PooledOLS Estimation Summary                          \n",
      "================================================================================\n",
      "Dep. Variable:               quantity   R-squared:                        0.4629\n",
      "Estimator:                  PooledOLS   R-squared (Between):              0.2717\n",
      "No. Observations:                4160   R-squared (Within):               0.4638\n",
      "Date:                Tue, Oct 29 2024   R-squared (Overall):              0.4629\n",
      "Time:                        12:37:57   Log-likelihood                -1.029e+04\n",
      "Cov. Estimator:            Unadjusted                                           \n",
      "                                        F-statistic:                      895.40\n",
      "Entities:                          10   P-value                           0.0000\n",
      "Avg Obs:                       416.00   Distribution:                  F(4,4155)\n",
      "Min Obs:                       404.00                                           \n",
      "Max Obs:                       429.00   F-statistic (robust):             895.40\n",
      "                                        P-value                           0.0000\n",
      "Time periods:                     104   Distribution:                  F(4,4155)\n",
      "Avg Obs:                       40.000                                           \n",
      "Min Obs:                       34.000                                           \n",
      "Max Obs:                       46.000                                           \n",
      "                                                                                \n",
      "                                    Parameter Estimates                                     \n",
      "============================================================================================\n",
      "                          Parameter  Std. Err.     T-stat    P-value    Lower CI    Upper CI\n",
      "--------------------------------------------------------------------------------------------\n",
      "const                        4.8955     0.1950     25.107     0.0000      4.5132      5.2778\n",
      "regular_price               -0.5776     0.3763    -1.5348     0.1249     -1.3154      0.1602\n",
      "average_competitor_price     0.5404     0.3762     1.4365     0.1509     -0.1971      1.2779\n",
      "value                        0.1021     0.0017     58.882     0.0000      0.0987      0.1055\n",
      "volume                       0.1848     0.0173     10.709     0.0000      0.1510      0.2186\n",
      "============================================================================================\n"
     ]
    }
   ],
   "source": [
    "# Create the Pooled OLS model\n",
    "pooled_model = PooledOLS(y_train, X_train)\n",
    "\n",
    "# Fit the model\n",
    "pooled_results = pooled_model.fit()\n",
    "\n",
    "# Print model summary to inspect coefficients and statistics\n",
    "print(pooled_results.summary)"
   ]
  },
  {
   "cell_type": "code",
   "execution_count": 13,
   "id": "5f182fb8-5caa-4309-a217-bb0f94e9cde7",
   "metadata": {},
   "outputs": [
    {
     "name": "stdout",
     "output_type": "stream",
     "text": [
      "\n",
      "Pooled OLS Model Performance on Test Set:\n",
      "Mean Squared Error (MSE): 8.367306476666839\n",
      "Mean Absolute Error (MAE): 2.5196007831506924\n",
      "R-squared: 0.4992482409207004\n"
     ]
    }
   ],
   "source": [
    "y_pred = pooled_results.predict(X_test)\n",
    "\n",
    "# Step 7: Model Evaluation\n",
    "mse = mean_squared_error(y_test, y_pred)\n",
    "mae = mean_absolute_error(y_test, y_pred)\n",
    "r2 = r2_score(y_test, y_pred)\n",
    "\n",
    "print(\"\\nPooled OLS Model Performance on Test Set:\")\n",
    "print(f\"Mean Squared Error (MSE): {mse}\")\n",
    "print(f\"Mean Absolute Error (MAE): {mae}\")\n",
    "print(f\"R-squared: {r2}\")"
   ]
  },
  {
   "cell_type": "markdown",
   "id": "655a429e-5b5f-4931-9cbb-26909da88040",
   "metadata": {},
   "source": [
    "### Using columns from PCA"
   ]
  },
  {
   "cell_type": "code",
   "execution_count": 14,
   "id": "da93c30c-a7c6-4e6d-8a45-c5d9ba84bf6f",
   "metadata": {},
   "outputs": [],
   "source": [
    "# Filter data for Retailer1\n",
    "df_retail1 = df[df['retailer'] == 'retail1']\n",
    "\n",
    "week = pd.Categorical(df_retail1.week)\n",
    "df_retail1 = df_retail1.set_index([\"store_id\", \"week\"])\n",
    "df_retail1[\"week\"] = week\n",
    "\n",
    "\n",
    "X = df_retail1[['regular_price',  'value', 'volume']]\n",
    "y = df_retail1['quantity']"
   ]
  },
  {
   "cell_type": "code",
   "execution_count": 15,
   "id": "76f92df5-0139-4741-ac5a-8e742b0ed996",
   "metadata": {},
   "outputs": [
    {
     "data": {
      "text/html": [
       "<div>\n",
       "<style scoped>\n",
       "    .dataframe tbody tr th:only-of-type {\n",
       "        vertical-align: middle;\n",
       "    }\n",
       "\n",
       "    .dataframe tbody tr th {\n",
       "        vertical-align: top;\n",
       "    }\n",
       "\n",
       "    .dataframe thead th {\n",
       "        text-align: right;\n",
       "    }\n",
       "</style>\n",
       "<table border=\"1\" class=\"dataframe\">\n",
       "  <thead>\n",
       "    <tr style=\"text-align: right;\">\n",
       "      <th></th>\n",
       "      <th>Features</th>\n",
       "      <th>VIF</th>\n",
       "    </tr>\n",
       "  </thead>\n",
       "  <tbody>\n",
       "    <tr>\n",
       "      <th>0</th>\n",
       "      <td>regular_price</td>\n",
       "      <td>5.164766</td>\n",
       "    </tr>\n",
       "    <tr>\n",
       "      <th>1</th>\n",
       "      <td>value</td>\n",
       "      <td>4.177858</td>\n",
       "    </tr>\n",
       "    <tr>\n",
       "      <th>2</th>\n",
       "      <td>volume</td>\n",
       "      <td>4.202805</td>\n",
       "    </tr>\n",
       "  </tbody>\n",
       "</table>\n",
       "</div>"
      ],
      "text/plain": [
       "        Features       VIF\n",
       "0  regular_price  5.164766\n",
       "1          value  4.177858\n",
       "2         volume  4.202805"
      ]
     },
     "execution_count": 15,
     "metadata": {},
     "output_type": "execute_result"
    }
   ],
   "source": [
    "vif_values = [variance_inflation_factor(X.values, i) for i in range(len(X.columns))]\n",
    "vif = pd.DataFrame({'Features': X.columns, 'VIF': vif_values})\n",
    "vif"
   ]
  },
  {
   "cell_type": "code",
   "execution_count": 16,
   "id": "2d5639c6-404a-4540-8a35-665808bb23c5",
   "metadata": {},
   "outputs": [
    {
     "name": "stdout",
     "output_type": "stream",
     "text": [
      "                          PooledOLS Estimation Summary                          \n",
      "================================================================================\n",
      "Dep. Variable:               quantity   R-squared:                        0.4627\n",
      "Estimator:                  PooledOLS   R-squared (Between):              0.2692\n",
      "No. Observations:                4160   R-squared (Within):               0.4636\n",
      "Date:                Tue, Oct 29 2024   R-squared (Overall):              0.4627\n",
      "Time:                        12:37:57   Log-likelihood                -1.029e+04\n",
      "Cov. Estimator:            Unadjusted                                           \n",
      "                                        F-statistic:                      1192.9\n",
      "Entities:                          10   P-value                           0.0000\n",
      "Avg Obs:                       416.00   Distribution:                  F(3,4156)\n",
      "Min Obs:                       404.00                                           \n",
      "Max Obs:                       429.00   F-statistic (robust):             1192.9\n",
      "                                        P-value                           0.0000\n",
      "Time periods:                     104   Distribution:                  F(3,4156)\n",
      "Avg Obs:                       40.000                                           \n",
      "Min Obs:                       34.000                                           \n",
      "Max Obs:                       46.000                                           \n",
      "                                                                                \n",
      "                               Parameter Estimates                               \n",
      "=================================================================================\n",
      "               Parameter  Std. Err.     T-stat    P-value    Lower CI    Upper CI\n",
      "---------------------------------------------------------------------------------\n",
      "const             4.8916     0.1950     25.087     0.0000      4.5093      5.2739\n",
      "regular_price    -0.0372     0.0104    -3.5679     0.0004     -0.0576     -0.0168\n",
      "value             0.1021     0.0017     58.875     0.0000      0.0987      0.1055\n",
      "volume            0.1855     0.0173     10.752     0.0000      0.1517      0.2193\n",
      "=================================================================================\n"
     ]
    }
   ],
   "source": [
    "# Add a constant to the features (intercept term)\n",
    "X = sm.add_constant(X)\n",
    "\n",
    "# Split the data into training and testing sets (80% training, 20% testing)\n",
    "X_train, X_test, y_train, y_test = train_test_split(X, y, test_size=0.2, random_state=42)\n",
    "\n",
    "\n",
    "# Create the Pooled OLS model\n",
    "pooled_model = PooledOLS(y_train, X_train)\n",
    "\n",
    "# Fit the model\n",
    "pooled_results = pooled_model.fit()\n",
    "\n",
    "# Print model summary to inspect coefficients and statistics\n",
    "print(pooled_results.summary)"
   ]
  },
  {
   "cell_type": "code",
   "execution_count": 17,
   "id": "3b0fa910-cf60-4fea-a5f9-5f5821ebbc8c",
   "metadata": {},
   "outputs": [
    {
     "name": "stdout",
     "output_type": "stream",
     "text": [
      "\n",
      "Pooled OLS Model Performance on Test Set:\n",
      "Mean Squared Error (MSE): 8.36628292511887\n",
      "Mean Absolute Error (MAE): 2.5189799732365414\n",
      "R-squared: 0.4993094966234266\n"
     ]
    }
   ],
   "source": [
    "y_pred = pooled_results.predict(X_test)\n",
    "\n",
    "# Step 7: Model Evaluation\n",
    "mse = mean_squared_error(y_test, y_pred)\n",
    "mae = mean_absolute_error(y_test, y_pred)\n",
    "r2 = r2_score(y_test, y_pred)\n",
    "\n",
    "print(\"\\nPooled OLS Model Performance on Test Set:\")\n",
    "print(f\"Mean Squared Error (MSE): {mse}\")\n",
    "print(f\"Mean Absolute Error (MAE): {mae}\")\n",
    "print(f\"R-squared: {r2}\")"
   ]
  },
  {
   "cell_type": "code",
   "execution_count": 18,
   "id": "da9f13df-34af-47fa-883d-1b901d57f9b5",
   "metadata": {},
   "outputs": [
    {
     "data": {
      "text/plain": [
       "array([ 4.89162135, -0.03719734,  0.10207052,  0.1855003 ])"
      ]
     },
     "execution_count": 18,
     "metadata": {},
     "output_type": "execute_result"
    }
   ],
   "source": [
    "pooled_results.params.values"
   ]
  },
  {
   "cell_type": "code",
   "execution_count": 19,
   "id": "38d16155-3792-4d8d-80e9-cc380e7bf3b0",
   "metadata": {},
   "outputs": [
    {
     "data": {
      "text/plain": [
       "const            4.891621\n",
       "regular_price   -0.037197\n",
       "value            0.102071\n",
       "volume           0.185500\n",
       "Name: parameter, dtype: float64"
      ]
     },
     "execution_count": 19,
     "metadata": {},
     "output_type": "execute_result"
    }
   ],
   "source": [
    "pooled_results.params"
   ]
  },
  {
   "cell_type": "code",
   "execution_count": 20,
   "id": "142b1b76-0fb9-487c-80a5-12bd7e9c8ada",
   "metadata": {},
   "outputs": [
    {
     "data": {
      "text/plain": [
       "2.8731253225417834"
      ]
     },
     "execution_count": 20,
     "metadata": {},
     "output_type": "execute_result"
    }
   ],
   "source": [
    "pooled_results.resids.std()"
   ]
  },
  {
   "cell_type": "code",
   "execution_count": 21,
   "id": "cf4aa3c2-3f52-4f96-a606-3c6a20c3d6b1",
   "metadata": {},
   "outputs": [
    {
     "data": {
      "text/plain": [
       "store_id  week\n",
       "3         18       7.838230\n",
       "1         16      11.716301\n",
       "7         29      18.773129\n",
       "4         36       9.924088\n",
       "9         74      11.392241\n",
       "                    ...    \n",
       "3         28       7.221941\n",
       "2         82      11.611357\n",
       "9         9        9.573949\n",
       "1         10      11.466816\n",
       "4         34      17.639147\n",
       "Name: quantity, Length: 1040, dtype: float64"
      ]
     },
     "execution_count": 21,
     "metadata": {},
     "output_type": "execute_result"
    }
   ],
   "source": [
    "y_test"
   ]
  },
  {
   "cell_type": "code",
   "execution_count": 22,
   "id": "38e68862-5acc-41a9-bfeb-1c0cf6dbedb8",
   "metadata": {},
   "outputs": [
    {
     "data": {
      "text/html": [
       "<div>\n",
       "<style scoped>\n",
       "    .dataframe tbody tr th:only-of-type {\n",
       "        vertical-align: middle;\n",
       "    }\n",
       "\n",
       "    .dataframe tbody tr th {\n",
       "        vertical-align: top;\n",
       "    }\n",
       "\n",
       "    .dataframe thead th {\n",
       "        text-align: right;\n",
       "    }\n",
       "</style>\n",
       "<table border=\"1\" class=\"dataframe\">\n",
       "  <thead>\n",
       "    <tr style=\"text-align: right;\">\n",
       "      <th></th>\n",
       "      <th></th>\n",
       "      <th>predictions</th>\n",
       "    </tr>\n",
       "    <tr>\n",
       "      <th>store_id</th>\n",
       "      <th>week</th>\n",
       "      <th></th>\n",
       "    </tr>\n",
       "  </thead>\n",
       "  <tbody>\n",
       "    <tr>\n",
       "      <th>3</th>\n",
       "      <th>18</th>\n",
       "      <td>10.223133</td>\n",
       "    </tr>\n",
       "    <tr>\n",
       "      <th>1</th>\n",
       "      <th>16</th>\n",
       "      <td>9.648528</td>\n",
       "    </tr>\n",
       "    <tr>\n",
       "      <th>7</th>\n",
       "      <th>29</th>\n",
       "      <td>14.875927</td>\n",
       "    </tr>\n",
       "    <tr>\n",
       "      <th>4</th>\n",
       "      <th>36</th>\n",
       "      <td>9.626612</td>\n",
       "    </tr>\n",
       "    <tr>\n",
       "      <th>9</th>\n",
       "      <th>74</th>\n",
       "      <td>7.923685</td>\n",
       "    </tr>\n",
       "    <tr>\n",
       "      <th>...</th>\n",
       "      <th>...</th>\n",
       "      <td>...</td>\n",
       "    </tr>\n",
       "    <tr>\n",
       "      <th>3</th>\n",
       "      <th>28</th>\n",
       "      <td>8.451582</td>\n",
       "    </tr>\n",
       "    <tr>\n",
       "      <th>2</th>\n",
       "      <th>82</th>\n",
       "      <td>9.392526</td>\n",
       "    </tr>\n",
       "    <tr>\n",
       "      <th>9</th>\n",
       "      <th>9</th>\n",
       "      <td>12.331239</td>\n",
       "    </tr>\n",
       "    <tr>\n",
       "      <th>1</th>\n",
       "      <th>10</th>\n",
       "      <td>7.815451</td>\n",
       "    </tr>\n",
       "    <tr>\n",
       "      <th>4</th>\n",
       "      <th>34</th>\n",
       "      <td>14.189927</td>\n",
       "    </tr>\n",
       "  </tbody>\n",
       "</table>\n",
       "<p>1040 rows × 1 columns</p>\n",
       "</div>"
      ],
      "text/plain": [
       "               predictions\n",
       "store_id week             \n",
       "3        18      10.223133\n",
       "1        16       9.648528\n",
       "7        29      14.875927\n",
       "4        36       9.626612\n",
       "9        74       7.923685\n",
       "...                    ...\n",
       "3        28       8.451582\n",
       "2        82       9.392526\n",
       "9        9       12.331239\n",
       "1        10       7.815451\n",
       "4        34      14.189927\n",
       "\n",
       "[1040 rows x 1 columns]"
      ]
     },
     "execution_count": 22,
     "metadata": {},
     "output_type": "execute_result"
    }
   ],
   "source": [
    "y_pred"
   ]
  },
  {
   "cell_type": "code",
   "execution_count": 23,
   "id": "3e9f0850-3ea8-4384-a7dd-bf3842c6d0af",
   "metadata": {},
   "outputs": [
    {
     "data": {
      "text/html": [
       "<div>\n",
       "<style scoped>\n",
       "    .dataframe tbody tr th:only-of-type {\n",
       "        vertical-align: middle;\n",
       "    }\n",
       "\n",
       "    .dataframe tbody tr th {\n",
       "        vertical-align: top;\n",
       "    }\n",
       "\n",
       "    .dataframe thead th {\n",
       "        text-align: right;\n",
       "    }\n",
       "</style>\n",
       "<table border=\"1\" class=\"dataframe\">\n",
       "  <thead>\n",
       "    <tr style=\"text-align: right;\">\n",
       "      <th></th>\n",
       "      <th>Actual</th>\n",
       "      <th>Predicted</th>\n",
       "    </tr>\n",
       "  </thead>\n",
       "  <tbody>\n",
       "    <tr>\n",
       "      <th>0</th>\n",
       "      <td>7.838230</td>\n",
       "      <td>10.223133</td>\n",
       "    </tr>\n",
       "    <tr>\n",
       "      <th>1</th>\n",
       "      <td>11.716301</td>\n",
       "      <td>9.648528</td>\n",
       "    </tr>\n",
       "    <tr>\n",
       "      <th>2</th>\n",
       "      <td>18.773129</td>\n",
       "      <td>14.875927</td>\n",
       "    </tr>\n",
       "    <tr>\n",
       "      <th>3</th>\n",
       "      <td>9.924088</td>\n",
       "      <td>9.626612</td>\n",
       "    </tr>\n",
       "    <tr>\n",
       "      <th>4</th>\n",
       "      <td>11.392241</td>\n",
       "      <td>7.923685</td>\n",
       "    </tr>\n",
       "    <tr>\n",
       "      <th>5</th>\n",
       "      <td>11.707034</td>\n",
       "      <td>13.182898</td>\n",
       "    </tr>\n",
       "    <tr>\n",
       "      <th>6</th>\n",
       "      <td>10.102846</td>\n",
       "      <td>7.513246</td>\n",
       "    </tr>\n",
       "    <tr>\n",
       "      <th>7</th>\n",
       "      <td>6.829288</td>\n",
       "      <td>7.571338</td>\n",
       "    </tr>\n",
       "    <tr>\n",
       "      <th>8</th>\n",
       "      <td>14.465913</td>\n",
       "      <td>15.067593</td>\n",
       "    </tr>\n",
       "    <tr>\n",
       "      <th>9</th>\n",
       "      <td>7.641243</td>\n",
       "      <td>10.385240</td>\n",
       "    </tr>\n",
       "  </tbody>\n",
       "</table>\n",
       "</div>"
      ],
      "text/plain": [
       "      Actual  Predicted\n",
       "0   7.838230  10.223133\n",
       "1  11.716301   9.648528\n",
       "2  18.773129  14.875927\n",
       "3   9.924088   9.626612\n",
       "4  11.392241   7.923685\n",
       "5  11.707034  13.182898\n",
       "6  10.102846   7.513246\n",
       "7   6.829288   7.571338\n",
       "8  14.465913  15.067593\n",
       "9   7.641243  10.385240"
      ]
     },
     "execution_count": 23,
     "metadata": {},
     "output_type": "execute_result"
    }
   ],
   "source": [
    "pred_df = pd.DataFrame({'Actual': y_test.values, 'Predicted': y_pred.predictions.tolist()})\n",
    "pred_df.head(10)"
   ]
  },
  {
   "cell_type": "code",
   "execution_count": 24,
   "id": "48698cd3-2bb1-4915-b31c-7a5a3f90aea8",
   "metadata": {},
   "outputs": [
    {
     "data": {
      "image/png": "[encoded data removed]",
      "text/plain": [
       "<Figure size 800x600 with 1 Axes>"
      ]
     },
     "metadata": {},
     "output_type": "display_data"
    }
   ],
   "source": [
    "plt.figure(figsize=(8, 6))\n",
    "plt.scatter(x=y_test.values, y=y_pred.predictions, color='r')\n",
    "plt.plot(y_test, y_test, color='b')\n",
    "plt.xlabel('Actual')\n",
    "plt.ylabel('Predicted')\n",
    "plt.show()"
   ]
  },
  {
   "cell_type": "code",
   "execution_count": null,
   "id": "a938d8e0-8de6-4456-b680-366abe4ddc58",
   "metadata": {},
   "outputs": [],
   "source": []
  }
 ],
 "metadata": {
  "kernelspec": {
   "display_name": "Python 3 (ipykernel)",
   "language": "python",
   "name": "python3"
  },
  "language_info": {
   "codemirror_mode": {
    "name": "ipython",
    "version": 3
   },
   "file_extension": ".py",
   "mimetype": "text/x-python",
   "name": "python",
   "nbconvert_exporter": "python",
   "pygments_lexer": "ipython3",
   "version": "3.11.7"
  }
 },
 "nbformat": 4,
 "nbformat_minor": 5
}
